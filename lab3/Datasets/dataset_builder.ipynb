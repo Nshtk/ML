{
 "cells": [
  {
   "cell_type": "code",
   "execution_count": 1,
   "metadata": {},
   "outputs": [],
   "source": [
    "input_file = 'hpmor_ru.txt'\n",
    "output_file = 'hpmor_ru_fixed.txt'\n",
    "str_example_list = ['* * *', '#', 'От автора', 'Глава ', 'Послесловие:']"
   ]
  },
  {
   "cell_type": "code",
   "execution_count": 2,
   "metadata": {},
   "outputs": [],
   "source": [
    "with open(input_file, 'r', encoding='utf-8') as infile:\n",
    "        # Открываем выходной файл для записи\n",
    "        with open(output_file, 'w', encoding='utf-8') as outfile:\n",
    "            # Проходим по каждой строке входного файла\n",
    "            for line in infile:\n",
    "                # Убираем пробельные символы в начале и в конце строки\n",
    "                line = line.strip()\n",
    "                # Проверяем, что строка не пустая и не начинается ни с одной строки из списка\n",
    "                if line and not any(line.startswith(example) for example in str_example_list):\n",
    "                    # Записываем строку в выходной файл\n",
    "                    outfile.write(line + '\\n')"
   ]
  }
 ],
 "metadata": {
  "kernelspec": {
   "display_name": "torch-env",
   "language": "python",
   "name": "python3"
  },
  "language_info": {
   "codemirror_mode": {
    "name": "ipython",
    "version": 3
   },
   "file_extension": ".py",
   "mimetype": "text/x-python",
   "name": "python",
   "nbconvert_exporter": "python",
   "pygments_lexer": "ipython3",
   "version": "3.11.5"
  }
 },
 "nbformat": 4,
 "nbformat_minor": 2
}
